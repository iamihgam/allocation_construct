{
 "cells": [
  {
   "cell_type": "markdown",
   "metadata": {},
   "source": [
    "# Demonstration of mixed-unit partition allocation\n",
    "\n",
    "The `allocation_construct` module closely follows the notation and structure of the following article\n",
    "\n",
    "> Majeau-Bettez, G., Wood, R. & Strømman, A.H., 2014. Unified Theory of Allocations and Constructs in Life Cycle Assessment and Input-Output Analysis. _Journal of Industrial Ecology_, 18(5), pp.747–770. http://doi.wiley.com/10.1111/jiec.12142\n",
    "\n",
    "and its [supporting information](http://onlinelibrary.wiley.com/store/10.1111/jiec.12142/asset/supinfo/jiec12142-sup-0001-SupMatS1.pdf?v=1&s=9417c703c400a9eb8994b249289346bf276713ae)\n",
    "presents many simple examples and demonstrations.\n",
    "\n",
    "\n",
    "\n",
    "However, it does _not_ illustrate a situation where one industry is partitionned following a certain property (e.g., portionately to mass) and another industry is partitionned proportionately to some other property (e.g., energy content). Presenting such a situation is the purpose of this demo."
   ]
  },
  {
   "cell_type": "markdown",
   "metadata": {},
   "source": [
    "### Defining the Supply and Use system with multifunctional activities"
   ]
  },
  {
   "cell_type": "code",
   "execution_count": 1,
   "metadata": {
    "collapsed": true
   },
   "outputs": [],
   "source": [
    "# Basic imports\n",
    "import sys\n",
    "import numpy as np\n",
    "import pandas as pd\n",
    "sys.path.append('/home/bill/software/allocation_construct/')\n",
    "import allocation_construct as ac"
   ]
  },
  {
   "cell_type": "code",
   "execution_count": 2,
   "metadata": {
    "collapsed": true
   },
   "outputs": [],
   "source": [
    "# Define labels\n",
    "l_ind = np.array(['I', 'J', 'K'])\n",
    "l_com = np.array(['i (kg)', \n",
    "                  'j (kg)', \n",
    "                  'k (kg)'])\n",
    "l_ext = np.array(['emission (kg)', 'ressource (kg)'])\n",
    "\n",
    "# l_out: commodities traceable to their producing industries (j produced by I, k produced by K, etc.)\n",
    "l_out = []\n",
    "for i in l_ind:\n",
    "    for j in l_com:\n",
    "        l_out.append(i + '_' + j)\n",
    "l_out = np.array(l_out)"
   ]
  },
  {
   "cell_type": "code",
   "execution_count": 3,
   "metadata": {
    "collapsed": false
   },
   "outputs": [
    {
     "data": {
      "text/html": [
       "<div>\n",
       "<table border=\"1\" class=\"dataframe\">\n",
       "  <thead>\n",
       "    <tr style=\"text-align: right;\">\n",
       "      <th></th>\n",
       "      <th>I</th>\n",
       "      <th>J</th>\n",
       "      <th>K</th>\n",
       "    </tr>\n",
       "  </thead>\n",
       "  <tbody>\n",
       "    <tr>\n",
       "      <th>i (kg)</th>\n",
       "      <td>2.0</td>\n",
       "      <td>0.3</td>\n",
       "      <td>0.0</td>\n",
       "    </tr>\n",
       "    <tr>\n",
       "      <th>j (kg)</th>\n",
       "      <td>1.0</td>\n",
       "      <td>1.0</td>\n",
       "      <td>0.0</td>\n",
       "    </tr>\n",
       "    <tr>\n",
       "      <th>k (kg)</th>\n",
       "      <td>0.0</td>\n",
       "      <td>0.0</td>\n",
       "      <td>11.0</td>\n",
       "    </tr>\n",
       "  </tbody>\n",
       "</table>\n",
       "</div>"
      ],
      "text/plain": [
       "          I    J     K\n",
       "i (kg)  2.0  0.3   0.0\n",
       "j (kg)  1.0  1.0   0.0\n",
       "k (kg)  0.0  0.0  11.0"
      ]
     },
     "execution_count": 3,
     "metadata": {},
     "output_type": "execute_result"
    }
   ],
   "source": [
    "# Supply table (what each industry produces)\n",
    "# Note coproduction in industries I and J\n",
    "                 # I   J    K\n",
    "V = pd.DataFrame([[2., 0.3, 0.],  # i\n",
    "                  [1., 1.,  0.],  # j\n",
    "                  [0., 0., 11.]], # k\n",
    "                 index=l_com,\n",
    "                 columns=l_ind)\n",
    "V"
   ]
  },
  {
   "cell_type": "code",
   "execution_count": 4,
   "metadata": {
    "collapsed": false
   },
   "outputs": [
    {
     "data": {
      "text/html": [
       "<div>\n",
       "<table border=\"1\" class=\"dataframe\">\n",
       "  <thead>\n",
       "    <tr style=\"text-align: right;\">\n",
       "      <th></th>\n",
       "      <th>I</th>\n",
       "      <th>J</th>\n",
       "      <th>K</th>\n",
       "    </tr>\n",
       "  </thead>\n",
       "  <tbody>\n",
       "    <tr>\n",
       "      <th>i (kg)</th>\n",
       "      <td>0.0</td>\n",
       "      <td>0.0</td>\n",
       "      <td>0.00</td>\n",
       "    </tr>\n",
       "    <tr>\n",
       "      <th>j (kg)</th>\n",
       "      <td>0.0</td>\n",
       "      <td>0.0</td>\n",
       "      <td>0.75</td>\n",
       "    </tr>\n",
       "    <tr>\n",
       "      <th>k (kg)</th>\n",
       "      <td>4.0</td>\n",
       "      <td>2.0</td>\n",
       "      <td>0.00</td>\n",
       "    </tr>\n",
       "  </tbody>\n",
       "</table>\n",
       "</div>"
      ],
      "text/plain": [
       "          I    J     K\n",
       "i (kg)  0.0  0.0  0.00\n",
       "j (kg)  0.0  0.0  0.75\n",
       "k (kg)  4.0  2.0  0.00"
      ]
     },
     "execution_count": 4,
     "metadata": {},
     "output_type": "execute_result"
    }
   ],
   "source": [
    "# untraceable Use table\n",
    "# What products each industry uses\n",
    "\n",
    "Uu = pd.DataFrame(\n",
    "        data= [[ 0.  ,  0.  ,  0.  ],\n",
    "               [ 0.  ,  0.  ,  0.75],\n",
    "               [ 4.  ,  2   ,  0.  ]],\n",
    "        index=l_com, columns=l_ind)\n",
    "Uu"
   ]
  },
  {
   "cell_type": "code",
   "execution_count": 5,
   "metadata": {
    "collapsed": false
   },
   "outputs": [
    {
     "data": {
      "text/html": [
       "<div>\n",
       "<table border=\"1\" class=\"dataframe\">\n",
       "  <thead>\n",
       "    <tr style=\"text-align: right;\">\n",
       "      <th></th>\n",
       "      <th>I</th>\n",
       "      <th>J</th>\n",
       "      <th>K</th>\n",
       "    </tr>\n",
       "  </thead>\n",
       "  <tbody>\n",
       "    <tr>\n",
       "      <th>emission (kg)</th>\n",
       "      <td>1.0</td>\n",
       "      <td>0.7</td>\n",
       "      <td>0.00</td>\n",
       "    </tr>\n",
       "    <tr>\n",
       "      <th>ressource (kg)</th>\n",
       "      <td>0.0</td>\n",
       "      <td>0.0</td>\n",
       "      <td>-10.25</td>\n",
       "    </tr>\n",
       "  </tbody>\n",
       "</table>\n",
       "</div>"
      ],
      "text/plain": [
       "                  I    J      K\n",
       "emission (kg)   1.0  0.7   0.00\n",
       "ressource (kg)  0.0  0.0 -10.25"
      ]
     },
     "execution_count": 5,
     "metadata": {},
     "output_type": "execute_result"
    }
   ],
   "source": [
    "# Exchanges with the environment\n",
    "# Note negative flows for inputs\n",
    "\n",
    "G = pd.DataFrame([[1.0,    0.7,    0],\n",
    "                  [0,      0,    -10.25]],\n",
    "                index=l_ext, columns=l_ind)\n",
    "G"
   ]
  },
  {
   "cell_type": "code",
   "execution_count": 6,
   "metadata": {
    "collapsed": false
   },
   "outputs": [
    {
     "data": {
      "text/plain": [
       "i (kg)    2.30\n",
       "j (kg)    1.25\n",
       "k (kg)    5.00\n",
       "dtype: float64"
      ]
     },
     "execution_count": 6,
     "metadata": {},
     "output_type": "execute_result"
    }
   ],
   "source": [
    "# For the sake of completeness, final demand by households for each product\n",
    "y = pd.Series([2.3, 1.25, 5], l_com)\n",
    "y"
   ]
  },
  {
   "cell_type": "markdown",
   "metadata": {},
   "source": [
    "### Selecting properties that will guide partition allocation (PA)\n",
    "\n",
    "The properties that guide the definition of partition coefficients are defined in the commodity-by-industry matrix $ \\Psi $. \n",
    "\n",
    "* Let us have the requirements of industries _I_ and _K_ allocated proportionately to mass. Consequently, the columns _I_ and _K_ in $\\Psi$ will hold the mass per unit of each commodity (in this case, always 1.0 kg).\n",
    "\n",
    "* Then, let us have industry _J_ allocated proportionately to the economic value of its coproducts. To do that, let us put the value of each product in column _J_ of $\\Psi$."
   ]
  },
  {
   "cell_type": "code",
   "execution_count": 7,
   "metadata": {
    "collapsed": false
   },
   "outputs": [
    {
     "data": {
      "text/html": [
       "<div>\n",
       "<table border=\"1\" class=\"dataframe\">\n",
       "  <thead>\n",
       "    <tr style=\"text-align: right;\">\n",
       "      <th></th>\n",
       "      <th>I</th>\n",
       "      <th>J</th>\n",
       "      <th>K</th>\n",
       "    </tr>\n",
       "  </thead>\n",
       "  <tbody>\n",
       "    <tr>\n",
       "      <th>i (kg)</th>\n",
       "      <td>1.0</td>\n",
       "      <td>0.50</td>\n",
       "      <td>1.0</td>\n",
       "    </tr>\n",
       "    <tr>\n",
       "      <th>j (kg)</th>\n",
       "      <td>1.0</td>\n",
       "      <td>0.75</td>\n",
       "      <td>1.0</td>\n",
       "    </tr>\n",
       "    <tr>\n",
       "      <th>k (kg)</th>\n",
       "      <td>1.0</td>\n",
       "      <td>0.89</td>\n",
       "      <td>1.0</td>\n",
       "    </tr>\n",
       "  </tbody>\n",
       "</table>\n",
       "</div>"
      ],
      "text/plain": [
       "          I     J    K\n",
       "i (kg)  1.0  0.50  1.0\n",
       "j (kg)  1.0  0.75  1.0\n",
       "k (kg)  1.0  0.89  1.0"
      ]
     },
     "execution_count": 7,
     "metadata": {},
     "output_type": "execute_result"
    }
   ],
   "source": [
    "value_i = 0.5 # $/kg\n",
    "value_j = 0.75 # $/kg\n",
    "value_k = 0.89 # $/kg\n",
    "\n",
    "mass_i = 1.0 # kg/kg\n",
    "mass_j = 1.0 # kg/kg\n",
    "mass_k = 1.0 # kg/kg\n",
    "\n",
    "PSI = pd.DataFrame(\n",
    "    data = [[mass_i, value_i, mass_i],\n",
    "            [mass_j, value_j, mass_j], \n",
    "            [mass_k, value_k, mass_k]],\n",
    "    index=l_com, columns=l_ind)\n",
    "\n",
    "PSI"
   ]
  },
  {
   "cell_type": "markdown",
   "metadata": {},
   "source": [
    "### Performing the allocation"
   ]
  },
  {
   "cell_type": "code",
   "execution_count": 8,
   "metadata": {
    "collapsed": false
   },
   "outputs": [],
   "source": [
    "Z, A, nn_in, nn_out, G_all, F = ac.pa(Uu.values, V.values, PSI.values, G=G.values)"
   ]
  },
  {
   "cell_type": "markdown",
   "metadata": {},
   "source": [
    "### Format the matrices"
   ]
  },
  {
   "cell_type": "code",
   "execution_count": 9,
   "metadata": {
    "collapsed": false
   },
   "outputs": [
    {
     "data": {
      "text/html": [
       "<div>\n",
       "<table border=\"1\" class=\"dataframe\">\n",
       "  <thead>\n",
       "    <tr style=\"text-align: right;\">\n",
       "      <th></th>\n",
       "      <th>I_i (kg)</th>\n",
       "      <th>I_j (kg)</th>\n",
       "      <th>J_i (kg)</th>\n",
       "      <th>J_j (kg)</th>\n",
       "      <th>K_k (kg)</th>\n",
       "    </tr>\n",
       "  </thead>\n",
       "  <tbody>\n",
       "    <tr>\n",
       "      <th>i (kg)</th>\n",
       "      <td>0.000000</td>\n",
       "      <td>0.000000</td>\n",
       "      <td>0.000000</td>\n",
       "      <td>0.000000</td>\n",
       "      <td>0.000000</td>\n",
       "    </tr>\n",
       "    <tr>\n",
       "      <th>j (kg)</th>\n",
       "      <td>0.000000</td>\n",
       "      <td>0.000000</td>\n",
       "      <td>0.000000</td>\n",
       "      <td>0.000000</td>\n",
       "      <td>0.068182</td>\n",
       "    </tr>\n",
       "    <tr>\n",
       "      <th>k (kg)</th>\n",
       "      <td>1.333333</td>\n",
       "      <td>1.333333</td>\n",
       "      <td>1.111111</td>\n",
       "      <td>1.666667</td>\n",
       "      <td>0.000000</td>\n",
       "    </tr>\n",
       "  </tbody>\n",
       "</table>\n",
       "</div>"
      ],
      "text/plain": [
       "        I_i (kg)  I_j (kg)  J_i (kg)  J_j (kg)  K_k (kg)\n",
       "i (kg)  0.000000  0.000000  0.000000  0.000000  0.000000\n",
       "j (kg)  0.000000  0.000000  0.000000  0.000000  0.068182\n",
       "k (kg)  1.333333  1.333333  1.111111  1.666667  0.000000"
      ]
     },
     "execution_count": 9,
     "metadata": {},
     "output_type": "execute_result"
    }
   ],
   "source": [
    "# The normalized, allocated requirements \n",
    "# for the production of each commodity in each industry\n",
    "A = pd.DataFrame(A, l_com[nn_in], l_out[nn_out])\n",
    "A"
   ]
  },
  {
   "cell_type": "code",
   "execution_count": 10,
   "metadata": {
    "collapsed": false
   },
   "outputs": [
    {
     "data": {
      "text/html": [
       "<div>\n",
       "<table border=\"1\" class=\"dataframe\">\n",
       "  <thead>\n",
       "    <tr style=\"text-align: right;\">\n",
       "      <th></th>\n",
       "      <th>I_i (kg)</th>\n",
       "      <th>I_j (kg)</th>\n",
       "      <th>J_i (kg)</th>\n",
       "      <th>J_j (kg)</th>\n",
       "      <th>K_k (kg)</th>\n",
       "    </tr>\n",
       "  </thead>\n",
       "  <tbody>\n",
       "    <tr>\n",
       "      <th>emission (kg)</th>\n",
       "      <td>0.333333</td>\n",
       "      <td>0.333333</td>\n",
       "      <td>0.388889</td>\n",
       "      <td>0.583333</td>\n",
       "      <td>0.000000</td>\n",
       "    </tr>\n",
       "    <tr>\n",
       "      <th>ressource (kg)</th>\n",
       "      <td>0.000000</td>\n",
       "      <td>0.000000</td>\n",
       "      <td>0.000000</td>\n",
       "      <td>0.000000</td>\n",
       "      <td>-0.931818</td>\n",
       "    </tr>\n",
       "  </tbody>\n",
       "</table>\n",
       "</div>"
      ],
      "text/plain": [
       "                I_i (kg)  I_j (kg)  J_i (kg)  J_j (kg)  K_k (kg)\n",
       "emission (kg)   0.333333  0.333333  0.388889  0.583333  0.000000\n",
       "ressource (kg)  0.000000  0.000000  0.000000  0.000000 -0.931818"
      ]
     },
     "execution_count": 10,
     "metadata": {},
     "output_type": "execute_result"
    }
   ],
   "source": [
    "# The normalized, allocated exchanges with the environment \n",
    "# for the production of each commodity in each industry\n",
    "F = pd.DataFrame(F, l_ext, l_out[nn_out])\n",
    "F"
   ]
  }
 ],
 "metadata": {
  "kernelspec": {
   "display_name": "Python 3",
   "language": "python",
   "name": "python3"
  },
  "language_info": {
   "codemirror_mode": {
    "name": "ipython",
    "version": 3
   },
   "file_extension": ".py",
   "mimetype": "text/x-python",
   "name": "python",
   "nbconvert_exporter": "python",
   "pygments_lexer": "ipython3",
   "version": "3.4.2"
  }
 },
 "nbformat": 4,
 "nbformat_minor": 1
}
